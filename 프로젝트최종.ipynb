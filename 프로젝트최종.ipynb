{
  "nbformat": 4,
  "nbformat_minor": 0,
  "metadata": {
    "colab": {
      "name": "프로젝트최종",
      "provenance": [],
      "collapsed_sections": [],
      "mount_file_id": "18CIVtUysuLvLysOfI6cXW5AtWHzcjosn",
      "authorship_tag": "ABX9TyMMtGtNuXB46hPgqg5Z9tiC",
      "include_colab_link": true
    },
    "kernelspec": {
      "name": "python3",
      "display_name": "Python 3"
    }
  },
  "cells": [
    {
      "cell_type": "markdown",
      "metadata": {
        "id": "view-in-github",
        "colab_type": "text"
      },
      "source": [
        "<a href=\"https://colab.research.google.com/github/kimmjen/ATOM/blob/master/%ED%94%84%EB%A1%9C%EC%A0%9D%ED%8A%B8%EC%B5%9C%EC%A2%85.ipynb\" target=\"_parent\"><img src=\"https://colab.research.google.com/assets/colab-badge.svg\" alt=\"Open In Colab\"/></a>"
      ]
    },
    {
      "cell_type": "code",
      "metadata": {
        "id": "awF7sAXMkJDK",
        "colab_type": "code",
        "colab": {}
      },
      "source": [
        "ls\n"
      ],
      "execution_count": 0,
      "outputs": []
    },
    {
      "cell_type": "code",
      "metadata": {
        "id": "ajLHOXKzkYMv",
        "colab_type": "code",
        "colab": {}
      },
      "source": [
        "cd /content/drive/My Drive/Colab Notebooks"
      ],
      "execution_count": 0,
      "outputs": []
    },
    {
      "cell_type": "code",
      "metadata": {
        "id": "q-89rdYIkYW-",
        "colab_type": "code",
        "colab": {}
      },
      "source": [
        "ls\n"
      ],
      "execution_count": 0,
      "outputs": []
    },
    {
      "cell_type": "markdown",
      "metadata": {
        "id": "PJ092sMN1-yR",
        "colab_type": "text"
      },
      "source": [
        "2. 데이터 분석해보기\n",
        "\n",
        "만들어진 csv파일을 google drive에 업로드하고 google colab에서 google drive를 마운트한 뒤 진행했습니다.\n"
      ]
    },
    {
      "cell_type": "code",
      "metadata": {
        "id": "j0yPpWa-2DV7",
        "colab_type": "code",
        "colab": {}
      },
      "source": [
        "import pandas as pd \n",
        "\n",
        "train_data = pd.read_csv(\"/content/drive/My Drive/Colab Notebooks/data/train_sum_ibk.csv\") \n",
        "test_data = pd.read_csv(\"/content/drive/My Drive/Colab Notebooks/data/test_sum_ibk.csv\")\n"
      ],
      "execution_count": 0,
      "outputs": []
    },
    {
      "cell_type": "code",
      "metadata": {
        "id": "bu70cghYYebM",
        "colab_type": "code",
        "colab": {}
      },
      "source": [
        "train_data"
      ],
      "execution_count": 0,
      "outputs": []
    },
    {
      "cell_type": "code",
      "metadata": {
        "id": "WRUaB3X4YeeP",
        "colab_type": "code",
        "colab": {}
      },
      "source": [
        "test_data"
      ],
      "execution_count": 0,
      "outputs": []
    },
    {
      "cell_type": "markdown",
      "metadata": {
        "id": "v6yq0xF12FZr",
        "colab_type": "text"
      },
      "source": [
        "train_data와 test_data를 pandas의 read_csv를 활용하여 dataframe으로 불러옵니다.\n",
        "\n",
        " \n",
        "\n",
        "그 다음 matplotlib을 활용하여 0, 1 라벨별로 각각 몇개의 데이터가 존재하는지 확인해봅니다.\n"
      ]
    },
    {
      "cell_type": "code",
      "metadata": {
        "id": "E0AQ83032Ip_",
        "colab_type": "code",
        "colab": {}
      },
      "source": [
        "%matplotlib inline \n",
        "import matplotlib.pyplot as plt\n"
      ],
      "execution_count": 0,
      "outputs": []
    },
    {
      "cell_type": "code",
      "metadata": {
        "id": "4cpNBWHW2JNi",
        "colab_type": "code",
        "outputId": "3b9cc0f5-92da-4d4e-9f74-e43536ac6978",
        "colab": {
          "base_uri": "https://localhost:8080/",
          "height": 280
        }
      },
      "source": [
        "# train_data['label'].value_counts().plot(kind='bar')\n",
        "\n",
        "train_data['up/down'].value_counts().plot(kind='bar')"
      ],
      "execution_count": 0,
      "outputs": [
        {
          "output_type": "execute_result",
          "data": {
            "text/plain": [
              "<matplotlib.axes._subplots.AxesSubplot at 0x7fb511c531d0>"
            ]
          },
          "metadata": {
            "tags": []
          },
          "execution_count": 8
        },
        {
          "output_type": "display_data",
          "data": {
            "image/png": "[encoded data removed]",
            "text/plain": [
              "<Figure size 432x288 with 1 Axes>"
            ]
          },
          "metadata": {
            "tags": [],
            "needs_background": "light"
          }
        }
      ]
    },
    {
      "cell_type": "code",
      "metadata": {
        "id": "62EYpeMR1yjW",
        "colab_type": "code",
        "outputId": "7222f1b6-9e28-45bb-83e9-00b8be9679e0",
        "colab": {
          "base_uri": "https://localhost:8080/",
          "height": 280
        }
      },
      "source": [
        "# test_data['label'].value_counts().plot(kind='bar')\n",
        "\n",
        "test_data['up/down'].value_counts().plot(kind='bar')\n"
      ],
      "execution_count": 0,
      "outputs": [
        {
          "output_type": "execute_result",
          "data": {
            "text/plain": [
              "<matplotlib.axes._subplots.AxesSubplot at 0x7fb511b90b00>"
            ]
          },
          "metadata": {
            "tags": []
          },
          "execution_count": 9
        },
        {
          "output_type": "display_data",
          "data": {
            "image/png": "[encoded data removed]",
            "text/plain": [
              "<Figure size 432x288 with 1 Axes>"
            ]
          },
          "metadata": {
            "tags": [],
            "needs_background": "light"
          }
        }
      ]
    },
    {
      "cell_type": "markdown",
      "metadata": {
        "id": "uUi4h3q02PnD",
        "colab_type": "text"
      },
      "source": [
        "숫자로도 확인해봅니다. 1이 상승 0이 하락"
      ]
    },
    {
      "cell_type": "code",
      "metadata": {
        "id": "DHfvpFG22QOc",
        "colab_type": "code",
        "outputId": "63519e97-a9d6-4936-b275-e34405d01e4e",
        "colab": {
          "base_uri": "https://localhost:8080/",
          "height": 125
        }
      },
      "source": [
        "# print(train_data.groupby('label').size().reset_index(name='count')) print(test_data.groupby('label').size().reset_index(name='count'))\n",
        "\n",
        "print(train_data.groupby('up/down').size().reset_index(name='count')) \n",
        "print(test_data.groupby('up/down').size().reset_index(name='count'))\n"
      ],
      "execution_count": 0,
      "outputs": [
        {
          "output_type": "stream",
          "text": [
            "   up/down  count\n",
            "0        0   5542\n",
            "1        1   5663\n",
            "   up/down  count\n",
            "0        0    378\n",
            "1        1    417\n"
          ],
          "name": "stdout"
        }
      ]
    },
    {
      "cell_type": "markdown",
      "metadata": {
        "id": "pibnb3ad2XWk",
        "colab_type": "text"
      },
      "source": [
        "# 3. 모델을 만들기 위한 데이터 전처리 작업\n",
        "먼저 각각의 제목을 토큰화 해주었습니다.\n",
        "\n",
        "Okt형태소 분석기를 활용하였습니다.\n"
      ]
    },
    {
      "cell_type": "code",
      "metadata": {
        "id": "FREvonlG2Vyx",
        "colab_type": "code",
        "colab": {}
      },
      "source": [
        "stopwords = ['의', '가', '이', '은', '들', '는', '좀', '잘', '걍', '과', '도', '를', '으로', '자', '에', '와', '한', '하다', '[Hot-Line]', '[시장을 이겨라]', '[단독]']\n"
      ],
      "execution_count": 0,
      "outputs": []
    },
    {
      "cell_type": "code",
      "metadata": {
        "id": "9-4eir3ulaYJ",
        "colab_type": "code",
        "colab": {}
      },
      "source": [
        "pip install konlpy"
      ],
      "execution_count": 0,
      "outputs": []
    },
    {
      "cell_type": "code",
      "metadata": {
        "id": "dhm9HDzY2VtN",
        "colab_type": "code",
        "colab": {}
      },
      "source": [
        "import konlpy \n",
        "from konlpy.tag import Okt \n",
        "# from konlpy.tag import Kkma \n",
        "# kkma = Kkma() \n",
        "okt = Okt()\n",
        "X_train = [] \n",
        "for sentence in train_data['headline']: \n",
        "  temp_X = [] \n",
        "  # temp_X = kkma.morphs(sentence, stem=True) # 토큰화 \n",
        "  temp_X = kkma.morphs(sentence) # 토큰화 \n",
        "  \n",
        "  temp_X = [word for word in temp_X if not word in stopwords] # 불용어 제거 \n",
        "  temp_X\n",
        "  X_train.append(temp_X) \n",
        "\n",
        "X_test = [] \n",
        "  \n",
        "for sentence in test_data['headline']: \n",
        "  temp_X = [] \n",
        "  # temp_X = kkma.morphs(sentence, stem=True) # 토큰화 \n",
        "  temp_X = kkma.morphs(sentence) # 토큰화 \n",
        "  temp_X = [word for word in temp_X if not word in stopwords] # 불용어 제거 \n",
        "  X_test.append(temp_X)\n"
      ],
      "execution_count": 0,
      "outputs": []
    },
    {
      "cell_type": "code",
      "metadata": {
        "id": "fBz3zT_JEE2F",
        "colab_type": "code",
        "colab": {}
      },
      "source": [
        "# temp_X\n",
        "X_train\n",
        "# 트레인과 테스트 똑같이!\n"
      ],
      "execution_count": 0,
      "outputs": []
    },
    {
      "cell_type": "code",
      "metadata": {
        "id": "MJCBZ7sAI81S",
        "colab_type": "code",
        "colab": {}
      },
      "source": [
        "X_test"
      ],
      "execution_count": 0,
      "outputs": []
    },
    {
      "cell_type": "code",
      "metadata": {
        "id": "amqHix2w2gcb",
        "colab_type": "code",
        "colab": {}
      },
      "source": [
        "from keras.preprocessing.text import Tokenizer \n",
        "\n",
        "max_words = 5000 \n",
        "# max_words = 35000 \n",
        "tokenizer = Tokenizer(num_words = max_words) \n",
        "tokenizer.fit_on_texts(X_train)\n",
        "\n",
        "X_train = tokenizer.texts_to_sequences(X_train) \n",
        "X_test = tokenizer.texts_to_sequences(X_test)\n"
      ],
      "execution_count": 0,
      "outputs": []
    },
    {
      "cell_type": "code",
      "metadata": {
        "id": "86mhBvKO2i8a",
        "colab_type": "code",
        "colab": {}
      },
      "source": [
        "print(\"제목의 최대 길이 : \", max(len(l) for l in X_train)) \n",
        "print(\"제목의 평균 길이 : \", sum(map(len, X_train))/ len(X_train)) \n",
        "plt.hist([len(s) for s in X_train], bins=50) \n",
        "plt.xlabel('length of Data') \n",
        "plt.ylabel('number of Data') \n",
        "plt.show()\n"
      ],
      "execution_count": 0,
      "outputs": []
    },
    {
      "cell_type": "code",
      "metadata": {
        "id": "HmlMNl9P2lwK",
        "colab_type": "code",
        "colab": {}
      },
      "source": [
        "print(\"제목의 최대 길이 : \", max(len(l) for l in X_test)) \n",
        "print(\"제목의 평균 길이 : \", sum(map(len, X_test))/ len(X_test)) \n",
        "plt.hist([len(s) for s in X_test], bins=50) \n",
        "plt.xlabel('length of Data') \n",
        "plt.ylabel('number of Data') \n",
        "plt.show()\n"
      ],
      "execution_count": 0,
      "outputs": []
    },
    {
      "cell_type": "markdown",
      "metadata": {
        "id": "VUhH6Bls2odG",
        "colab_type": "text"
      },
      "source": [
        "다음으로는 y값으로 들어갈 label  0, 1을 컴퓨터가 보고 알수 있도록 one-hot encoding을 해주었습니다.\n",
        "\n",
        "> 들여쓴 블록\n",
        "\n",
        "\n"
      ]
    },
    {
      "cell_type": "code",
      "metadata": {
        "id": "ctffebth2rRi",
        "colab_type": "code",
        "colab": {}
      },
      "source": [
        "import numpy as np \n",
        "\n",
        "y_train = [] \n",
        "y_test = [] \n",
        "\n",
        "for i in range(len(train_data['up/down'])): \n",
        "  if train_data['up/down'].iloc[i] == 1: \n",
        "    y_train.append([0, 1]) \n",
        "  elif train_data['up/down'].iloc[i] == 0: \n",
        "    y_train.append([1, 0]) \n",
        "\n",
        "    \n",
        "for i in range(len(test_data['up/down'])): \n",
        "  if test_data['up/down'].iloc[i] == 1: \n",
        "    y_test.append([0, 1]) \n",
        "  elif test_data['up/down'].iloc[i] == 0: \n",
        "    y_test.append([1, 0]) \n",
        "\n",
        "y_train = np.array(y_train) \n",
        "y_test = np.array(y_test)\n"
      ],
      "execution_count": 0,
      "outputs": []
    },
    {
      "cell_type": "markdown",
      "metadata": {
        "id": "myBqA1I32VJe",
        "colab_type": "text"
      },
      "source": [
        "# 4. 모델 만들기"
      ]
    },
    {
      "cell_type": "code",
      "metadata": {
        "id": "pshibFzU2wfj",
        "colab_type": "code",
        "colab": {}
      },
      "source": [
        "from keras.layers import Embedding, Dense, LSTM \n",
        "from keras.models import Sequential \n",
        "from keras.preprocessing.sequence import pad_sequences \n",
        "\n",
        "# max_len = 20 # 전체 데이터의 길이를 20로 맞춘다 \n",
        "max_len = 20\n",
        "\n",
        "X_train = pad_sequences(X_train, maxlen=max_len) \n",
        "\n",
        "X_test = pad_sequences(X_test, maxlen=max_len)\n",
        "\n",
        "model = Sequential() \n",
        "model.add(Embedding(max_words, 100)) \n",
        "model.add(LSTM(128)) \n",
        "model.add(Dense(2, activation='softmax')) \n",
        "\n",
        "model.compile(optimizer='rmsprop', loss='categorical_crossentropy', metrics=['accuracy']) \n",
        "\n",
        "history = model.fit(X_train, y_train, epochs=10, batch_size=10, validation_split=0.1)\n"
      ],
      "execution_count": 0,
      "outputs": []
    },
    {
      "cell_type": "code",
      "metadata": {
        "id": "THgq3uRNITT-",
        "colab_type": "code",
        "colab": {}
      },
      "source": [
        "from keras.layers import Embedding, Dense, LSTM \n",
        "from keras.models import Sequential \n",
        "from keras.preprocessing.sequence import pad_sequences \n",
        "\n",
        "# max_len = 20 # 전체 데이터의 길이를 20로 맞춘다 \n",
        "max_len = 20\n",
        "\n",
        "X_train = pad_sequences(X_train, maxlen=max_len) \n",
        "\n",
        "X_test = pad_sequences(X_test, maxlen=max_len)\n",
        "\n",
        "model = Sequential() \n",
        "model.add(Embedding(max_words, 100)) \n",
        "model.add(LSTM(128)) \n",
        "model.add(Dense(1, activation='sigmoid')) \n",
        "\n",
        "model.compile(optimizer='rmsprop', loss='categorical_crossentropy', metrics=['accuracy']) \n",
        "\n",
        "history = model.fit(X_train, y_train, epochs=10, batch_size=10, validation_split=0.1)\n"
      ],
      "execution_count": 0,
      "outputs": []
    },
    {
      "cell_type": "code",
      "metadata": {
        "id": "Ab7t-a-L12X-",
        "colab_type": "code",
        "colab": {}
      },
      "source": [
        "model.summary()\n"
      ],
      "execution_count": 0,
      "outputs": []
    },
    {
      "cell_type": "markdown",
      "metadata": {
        "id": "O1KmSU2R2ynV",
        "colab_type": "text"
      },
      "source": [
        "먼저 필요한 것들을 import 해주고 pad_sequences를 활용하여 모든 데이터의 길이를 20,40으로 통일하였습니다.\n",
        "\n",
        "\n"
      ]
    },
    {
      "cell_type": "code",
      "metadata": {
        "id": "lWnTJhC22zP0",
        "colab_type": "code",
        "colab": {}
      },
      "source": [
        "print(\"\\n 테스트 정확도 : {:2f}%\".format(model.evaluate(X_test, y_test)[1]*100))"
      ],
      "execution_count": 0,
      "outputs": []
    },
    {
      "cell_type": "code",
      "metadata": {
        "id": "pdUIcliCpuSb",
        "colab_type": "code",
        "colab": {}
      },
      "source": [
        "from keras.layers import Embedding, Dense, LSTM \n",
        "from keras.models import Sequential \n",
        "from keras.preprocessing.sequence import pad_sequences \n",
        "\n",
        "max_len = 20 # 전체 데이터의 길이를 20로 맞춘다 \n",
        "\n",
        "X_train = pad_sequences(X_train, maxlen=max_len) \n",
        "X_test = pad_sequences(X_test, maxlen=max_len)\n"
      ],
      "execution_count": 0,
      "outputs": []
    },
    {
      "cell_type": "code",
      "metadata": {
        "id": "ECbZ0Chzp6x9",
        "colab_type": "code",
        "colab": {}
      },
      "source": [
        "model2 = Sequential() \n",
        "model2.add(Embedding(max_words, 100)) \n",
        "model2.add(LSTM(128)) \n",
        "model2.add(Dense(2, activation='softmax')) \n",
        "\n",
        "model2.compile(optimizer='adam', loss='categorical_crossentropy', metrics=['accuracy']) \n",
        "\n",
        "history = model2.fit(X_train, y_train, epochs=10, batch_size=100, validation_split=0.1)\n"
      ],
      "execution_count": 0,
      "outputs": []
    },
    {
      "cell_type": "code",
      "metadata": {
        "id": "gZV7nrCMpxcm",
        "colab_type": "code",
        "colab": {}
      },
      "source": [
        "print(\"\\n 테스트 정확도 : {:2f}%\".format(model.evaluate(X_test, y_test)[1]*100))"
      ],
      "execution_count": 0,
      "outputs": []
    },
    {
      "cell_type": "code",
      "metadata": {
        "id": "FUFORcMAmqoJ",
        "colab_type": "code",
        "outputId": "4bb18438-b4f5-419b-95b9-11136ccae78e",
        "colab": {
          "base_uri": "https://localhost:8080/",
          "height": 262
        }
      },
      "source": [
        "from keras.layers import Embedding, Dense, LSTM \n",
        "from keras.models import Sequential \n",
        "from keras.preprocessing.sequence import pad_sequences \n",
        "\n",
        "# max_len = 20 # 전체 데이터의 길이를 20로 맞춘다 \n",
        "max_len = 20\n",
        "\n",
        "X_train = pad_sequences(X_train, maxlen=max_len) \n",
        "X_test = pad_sequences(X_test, maxlen=max_len)\n",
        "model3 = Sequential() \n",
        "model3.add(Embedding(max_words, 100)) \n",
        "model3.add(LSTM(128)) \n",
        "model3.add(Dense(2, activation='softmax')) \n",
        "\n",
        "model3.compile(optimizer='rmsprop', loss='categorical_crossentropy', metrics=['accuracy']) \n",
        "\n",
        "history = model3.fit(X_train, y_train, epochs=10, batch_size=10, validation_split=0.05)\n"
      ],
      "execution_count": 0,
      "outputs": [
        {
          "output_type": "stream",
          "text": [
            "Using TensorFlow backend.\n"
          ],
          "name": "stderr"
        },
        {
          "output_type": "error",
          "ename": "NameError",
          "evalue": "ignored",
          "traceback": [
            "\u001b[0;31m---------------------------------------------------------------------------\u001b[0m",
            "\u001b[0;31mNameError\u001b[0m                                 Traceback (most recent call last)",
            "\u001b[0;32m<ipython-input-1-682ea7292975>\u001b[0m in \u001b[0;36m<module>\u001b[0;34m()\u001b[0m\n\u001b[1;32m      6\u001b[0m \u001b[0mmax_len\u001b[0m \u001b[0;34m=\u001b[0m \u001b[0;36m20\u001b[0m\u001b[0;34m\u001b[0m\u001b[0;34m\u001b[0m\u001b[0m\n\u001b[1;32m      7\u001b[0m \u001b[0;34m\u001b[0m\u001b[0m\n\u001b[0;32m----> 8\u001b[0;31m \u001b[0mX_train\u001b[0m \u001b[0;34m=\u001b[0m \u001b[0mpad_sequences\u001b[0m\u001b[0;34m(\u001b[0m\u001b[0mX_train\u001b[0m\u001b[0;34m,\u001b[0m \u001b[0mmaxlen\u001b[0m\u001b[0;34m=\u001b[0m\u001b[0mmax_len\u001b[0m\u001b[0;34m)\u001b[0m\u001b[0;34m\u001b[0m\u001b[0;34m\u001b[0m\u001b[0m\n\u001b[0m\u001b[1;32m      9\u001b[0m \u001b[0mX_test\u001b[0m \u001b[0;34m=\u001b[0m \u001b[0mpad_sequences\u001b[0m\u001b[0;34m(\u001b[0m\u001b[0mX_test\u001b[0m\u001b[0;34m,\u001b[0m \u001b[0mmaxlen\u001b[0m\u001b[0;34m=\u001b[0m\u001b[0mmax_len\u001b[0m\u001b[0;34m)\u001b[0m\u001b[0;34m\u001b[0m\u001b[0;34m\u001b[0m\u001b[0m\n\u001b[1;32m     10\u001b[0m \u001b[0mmodel3\u001b[0m \u001b[0;34m=\u001b[0m \u001b[0mSequential\u001b[0m\u001b[0;34m(\u001b[0m\u001b[0;34m)\u001b[0m\u001b[0;34m\u001b[0m\u001b[0;34m\u001b[0m\u001b[0m\n",
            "\u001b[0;31mNameError\u001b[0m: name 'X_train' is not defined"
          ]
        }
      ]
    },
    {
      "cell_type": "code",
      "metadata": {
        "id": "Yz0RGR0CmquA",
        "colab_type": "code",
        "colab": {}
      },
      "source": [
        "print(\"\\n 테스트 정확도 : {:2f}%\".format(model3.evaluate(X_test, y_test)[1]*100))"
      ],
      "execution_count": 0,
      "outputs": []
    },
    {
      "cell_type": "code",
      "metadata": {
        "id": "T3mi8yqxm3Ij",
        "colab_type": "code",
        "colab": {}
      },
      "source": [
        "from keras.layers import Embedding, Dense, LSTM \n",
        "from keras.models import Sequential \n",
        "from keras.preprocessing.sequence import pad_sequences \n",
        "\n",
        "# max_len = 20 # 전체 데이터의 길이를 20로 맞춘다 \n",
        "max_len = 20\n",
        "\n",
        "X_train = pad_sequences(X_train, maxlen=max_len) \n",
        "X_test = pad_sequences(X_test, maxlen=max_len)\n",
        "model4 = Sequential() \n",
        "model4.add(Embedding(max_words, 100)) \n",
        "model4.add(LSTM(128)) \n",
        "model4.add(Dense(2, activation='softmax')) \n",
        "\n",
        "model4.compile(optimizer='adam', loss='categorical_crossentropy', metrics=['accuracy']) \n",
        "\n",
        "history = model4.fit(X_train, y_train, epochs=10, batch_size=10, validation_split=0.05)\n"
      ],
      "execution_count": 0,
      "outputs": []
    },
    {
      "cell_type": "code",
      "metadata": {
        "id": "ZNNjaelLmq4z",
        "colab_type": "code",
        "colab": {}
      },
      "source": [
        "print(\"\\n 테스트 정확도 : {:2f}%\".format(model4.evaluate(X_test, y_test)[1]*100))"
      ],
      "execution_count": 0,
      "outputs": []
    },
    {
      "cell_type": "code",
      "metadata": {
        "id": "qRrUy0QDmq99",
        "colab_type": "code",
        "colab": {}
      },
      "source": [
        "from keras.layers import Embedding, Dense, LSTM \n",
        "from keras.models import Sequential \n",
        "from keras.preprocessing.sequence import pad_sequences \n",
        "\n",
        "# max_len = 20 # 전체 데이터의 길이를 20로 맞춘다 \n",
        "max_len = 40\n",
        "\n",
        "X_train = pad_sequences(X_train, maxlen=max_len) \n",
        "X_test = pad_sequences(X_test, maxlen=max_len)\n",
        "model5 = Sequential() \n",
        "model5.add(Embedding(max_words, 100)) \n",
        "model5.add(LSTM(128)) \n",
        "model5.add(Dense(2, activation='softmax')) \n",
        "model5.compile(optimizer='rmsprop', loss='categorical_crossentropy', metrics=['accuracy']) \n",
        "\n",
        "history = model5.fit(X_train, y_train, epochs=10, batch_size=10, validation_split=0.05)\n"
      ],
      "execution_count": 0,
      "outputs": []
    },
    {
      "cell_type": "code",
      "metadata": {
        "id": "Ieq6SZAanGzp",
        "colab_type": "code",
        "colab": {}
      },
      "source": [
        "print(\"\\n 테스트 정확도 : {:2f}%\".format(model5.evaluate(X_test, y_test)[1]*100))"
      ],
      "execution_count": 0,
      "outputs": []
    },
    {
      "cell_type": "code",
      "metadata": {
        "id": "hZ5bhAcPnG2U",
        "colab_type": "code",
        "colab": {}
      },
      "source": [
        "from keras.layers import Embedding, Dense, LSTM \n",
        "from keras.models import Sequential \n",
        "from keras.preprocessing.sequence import pad_sequences \n",
        "\n",
        "# max_len = 20 # 전체 데이터의 길이를 20로 맞춘다 \n",
        "max_len = 40\n",
        "\n",
        "X_train = pad_sequences(X_train, maxlen=max_len) \n",
        "X_test = pad_sequences(X_test, maxlen=max_len)\n",
        "model6 = Sequential() \n",
        "model6.add(Embedding(max_words, 100)) \n",
        "model6.add(LSTM(128)) \n",
        "model6.add(Dense(2, activation='softmax')) \n",
        "model6.compile(optimizer='adam', loss='categorical_crossentropy', metrics=['accuracy']) \n",
        "\n",
        "history = model6.fit(X_train, y_train, epochs=10, batch_size=10, validation_split=0.05)\n"
      ],
      "execution_count": 0,
      "outputs": []
    },
    {
      "cell_type": "code",
      "metadata": {
        "id": "-1T8_39AnG5A",
        "colab_type": "code",
        "colab": {}
      },
      "source": [
        "print(\"\\n 테스트 정확도 : {:2f}%\".format(model6.evaluate(X_test, y_test)[1]*100))"
      ],
      "execution_count": 0,
      "outputs": []
    },
    {
      "cell_type": "code",
      "metadata": {
        "id": "fdOJtnRCnG7y",
        "colab_type": "code",
        "colab": {}
      },
      "source": [
        "from keras.layers import Embedding, Dense, LSTM \n",
        "from keras.models import Sequential \n",
        "from keras.preprocessing.sequence import pad_sequences \n",
        "\n",
        "# max_len = 20 # 전체 데이터의 길이를 20로 맞춘다 \n",
        "max_len = 40\n",
        "\n",
        "X_train = pad_sequences(X_train, maxlen=max_len) \n",
        "X_test = pad_sequences(X_test, maxlen=max_len)\n",
        "model6 = Sequential() \n",
        "model6.add(Embedding(max_words, 100)) \n",
        "model6.add(LSTM(128)) \n",
        "model6.add(Dense(2, activation='softmax')) \n",
        "model6.compile(optimizer='adam', loss='categorical_crossentropy', metrics=['accuracy']) \n",
        "\n",
        "history = model6.fit(X_train, y_train, epochs=10, batch_size=10, validation_split=0.05)\n"
      ],
      "execution_count": 0,
      "outputs": []
    },
    {
      "cell_type": "code",
      "metadata": {
        "id": "9G59sldinG-4",
        "colab_type": "code",
        "colab": {}
      },
      "source": [
        ""
      ],
      "execution_count": 0,
      "outputs": []
    },
    {
      "cell_type": "markdown",
      "metadata": {
        "id": "s5FRJ2Nu26_B",
        "colab_type": "text"
      },
      "source": [
        "상승, 하락 2가지로 분류해야하니 \n",
        "LSTM, softmax, categorical_crossentropy를 사용하였습니다.\n",
        "\n",
        "batch_size는 10084개의 훈련데이터 중 10퍼센트인 1008.4개는 validation_data로 활용하기위해 validation_split을 0.1을 부여하였습니다.\n",
        "\n",
        "optimizer는 rmsprop을 사용하여 위와 같이 모델을 만들고 학습을 시켜보았습니다.\n"
      ]
    },
    {
      "cell_type": "code",
      "metadata": {
        "id": "lkGdYEVz2--E",
        "colab_type": "code",
        "colab": {}
      },
      "source": [
        "predict = model.predict(X_test)\n"
      ],
      "execution_count": 0,
      "outputs": []
    },
    {
      "cell_type": "code",
      "metadata": {
        "id": "M58ueeMX2_Sr",
        "colab_type": "code",
        "colab": {}
      },
      "source": [
        "import numpy as np \n",
        "\n",
        "predict_labels = np.argmax(predict, axis=1) \n",
        "original_labels = np.argmax(y_test, axis=1)\n"
      ],
      "execution_count": 0,
      "outputs": []
    },
    {
      "cell_type": "code",
      "metadata": {
        "id": "DK4l4OAY2_sl",
        "colab_type": "code",
        "colab": {}
      },
      "source": [
        "for i in range(100): \n",
        "  print(\"기사제목 : \", test_data['headline'].iloc[i], \"/\\t 실제 방향 : \", original_labels[i], \"/\\t예측 방향 : \", predict_labels[i])\n"
      ],
      "execution_count": 0,
      "outputs": []
    },
    {
      "cell_type": "code",
      "metadata": {
        "id": "QDHH-OPYo3ot",
        "colab_type": "code",
        "colab": {}
      },
      "source": [
        ""
      ],
      "execution_count": 0,
      "outputs": []
    }
  ]
}